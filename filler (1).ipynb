{
  "cells": [
    {
      "cell_type": "code",
      "execution_count": 215,
      "metadata": {
        "id": "0i6czOYWn0Um"
      },
      "outputs": [],
      "source": [
        "import matplotlib as mlib\n",
        "import matplotlib.pyplot as plt\n",
        "import numpy as np\n",
        "\n",
        "def plot_colored_grid(data, colors=['white', 'green'], bounds=[0, 0.5, 1], grid=True, labels=False, frame=True):\n",
        "\n",
        "# create discrete colormap\n",
        "    cmap = mlib.colors.ListedColormap(colors)\n",
        "    norm = mlib.colors.BoundaryNorm(bounds, cmap.N)\n",
        "\n",
        "    # enable or disable frame\n",
        "    plt.figure(frameon=frame)\n",
        "\n",
        "    # disable labels\n",
        "    if not labels:\n",
        "        plt.tick_params(bottom=False, top=False, left=False, right=False, labelbottom=False, labelleft=False)\n",
        "    # plot data matrix\n",
        "    plt.imshow(data, cmap=cmap, norm=norm)\n",
        "\n",
        "    # display main axis\n",
        "    #plt.show()"
      ]
    },
    {
      "cell_type": "code",
      "execution_count": 216,
      "metadata": {
        "id": "0DOr6ToNn0Uo",
        "outputId": "118cc99f-f915-4f00-cb87-a019bb289a6b",
        "colab": {
          "base_uri": "https://localhost:8080/",
          "height": 442
        }
      },
      "outputs": [
        {
          "output_type": "stream",
          "name": "stdout",
          "text": [
            "changed\n",
            "changed\n"
          ]
        },
        {
          "output_type": "display_data",
          "data": {
            "text/plain": [
              "<Figure size 640x480 with 1 Axes>"
            ],
            "image/png": "[encoded data removed]"
          },
          "metadata": {}
        }
      ],
      "source": [
        "data = np.random.rand(7, 8) * 60\n",
        "while (data[0][1]//10 == data [1][0]//10):\n",
        "    data[1][0] = np.random.randint(0,60)\n",
        "for i in range (7):\n",
        "    for j in range (8):\n",
        "        if (i == 0):\n",
        "            if (j > 0):\n",
        "                while (data[i][j]//10 == data[i][j-1]//10):\n",
        "                    # check if this block has the same color as the neighbor to the left\n",
        "                    data[i][j] = np.random.randint(0,60)\n",
        "                    while (data[i][j]// 10 == data[i][j]/10):\n",
        "                        data[i][j] = np.random.randint(0,60)\n",
        "        if (j == 0):\n",
        "            if (i > 0):\n",
        "                while (data[i][j]//10 == data[i-1][j]//10):\n",
        "                    # check if this block has the same color as the neighbor above\n",
        "                    data[i][j] = np.random.randint(0,60)\n",
        "                    while (data[i][j]// 10 == data[i][j]/10):\n",
        "                        data[i][j] = np.random.randint(0,60)\n",
        "        if (i > 0 and j > 0):\n",
        "            while ((data[i][j]//10 == data[i-1][j]//10) or (data[i][j]//10 == data[i][j-1]//10)):\n",
        "                # check if this block has the same color as the neighbor to the left or the neighbor above\n",
        "                data[i][j] = np.random.randint(0,60)\n",
        "                while (data[i][j]// 10 == data[i][j]/10):\n",
        "                    data[i][j] = np.random.randint(0,60)\n",
        "while (data [5][7]//10 == data [6][6]//10 or data[5][7]//10 == data[5][6]//10 or data[5][7]//10 == data[4][7]//10 or data[5][7]//10 == data[6][7]//10):\n",
        "    data[5][7] = np.random.randint(0,60)\n",
        "    print(\"changed\")\n",
        "while (data [6][7]//10 == data [0][0]//10 or data[6][7]//10 == data[5][7]//10 or data[6][7]//10 == data[6][6]//10):\n",
        "    # check if the end block has the same color as the start block (opponents color)\n",
        "    data[6][7] = np.random.randint(0,60)\n",
        "    #print(\"changed\")\n",
        "data[0][0] += 60\n",
        "plot_colored_grid(data, colors=['red', 'yellow', 'chartreuse', 'deepskyblue', 'darkviolet', 'black', 'lightcoral', '#faf791', 'palegreen', 'skyblue', 'mediumorchid', 'dimgray'], bounds=[0, 10, 20, 30, 40, 50,60,70,80,90,100,110,120])"
      ]
    },
    {
      "cell_type": "code",
      "execution_count": 217,
      "metadata": {
        "id": "Ib8XldVLn0Up"
      },
      "outputs": [],
      "source": [
        "def color(col):\n",
        "    if (col < 10):\n",
        "        return 'red'\n",
        "    if (col < 20):\n",
        "        return 'yellow'\n",
        "    if (col < 30):\n",
        "        return 'green'\n",
        "    if (col < 40):\n",
        "        return 'blue'\n",
        "    if (col < 50):\n",
        "        return 'purple'\n",
        "    if (col < 60):\n",
        "        return 'black'\n",
        "    if (col < 70):\n",
        "        return 'red'\n",
        "    if (col < 80):\n",
        "        return 'yellow'\n",
        "    if (col < 90):\n",
        "        return 'green'\n",
        "    if (col < 100):\n",
        "        return 'blue'\n",
        "    if (col < 110):\n",
        "        return 'purple'\n",
        "    if (col < 120):\n",
        "        return 'black'"
      ]
    },
    {
      "cell_type": "code",
      "execution_count": 229,
      "metadata": {
        "id": "7O8j4714n0Up"
      },
      "outputs": [],
      "source": [
        "mine = [color(data[0][7]),[(0,7)]]\n",
        "yours = [color(data[6][0]),[(6,0)]]"
      ]
    },
    {
      "cell_type": "code",
      "execution_count": 219,
      "metadata": {
        "id": "x6AJy7OWn0Uq"
      },
      "outputs": [],
      "source": [
        "def rev(col):\n",
        "    if (col == 'red'):\n",
        "        return 1\n",
        "    if (col == 'yellow'):\n",
        "        return 11\n",
        "    if (col == 'green'):\n",
        "        return 21\n",
        "    if (col == 'blue'):\n",
        "        return 31\n",
        "    if (col == 'purple'):\n",
        "        return 41\n",
        "    if (col == 'black'):\n",
        "        return 51"
      ]
    },
    {
      "cell_type": "code",
      "execution_count": 220,
      "metadata": {
        "id": "hkd3jGGqn0Uq"
      },
      "outputs": [],
      "source": [
        "def other(person):\n",
        "    if (person == mine):\n",
        "        return yours\n",
        "    else:\n",
        "        return mine"
      ]
    },
    {
      "cell_type": "code",
      "execution_count": 221,
      "metadata": {
        "id": "5WBQjwh-n0Uq"
      },
      "outputs": [],
      "source": [
        "#print the win 'W' on the grid\n",
        "def data_w():\n",
        "    win = np.random.rand(14, 16)\n",
        "    for i in range (7):\n",
        "        for j in range (8):\n",
        "            win [2*i][2*j] = data[i][j]\n",
        "            win [2*i+1][2*j] = data[i][j]\n",
        "            win [2*i][2*j+1] = data[i][j]\n",
        "            win [2*i+1][2*j+1] = data[i][j]\n",
        "    log = [3,4,5,6,7,8,9,10,7,8,5,6,5,6,7,8,9,10,7,8,5,6,3,4]\n",
        "    for i in range(0,12):\n",
        "        win[log[2*i]][i+2] = 131\n",
        "        win[log[2*i+1]][i+2] = 131\n",
        "    return win"
      ]
    },
    {
      "cell_type": "code",
      "execution_count": 222,
      "metadata": {
        "id": "NjsWRlb-n0Ur"
      },
      "outputs": [],
      "source": [
        "def data_l():\n",
        "    loss = data\n",
        "    for i in range (5):\n",
        "        loss[i+1][2] = 131\n",
        "    for j in range (4):\n",
        "        loss[5][2+j] = 131\n",
        "    return loss"
      ]
    },
    {
      "cell_type": "code",
      "execution_count": 223,
      "metadata": {
        "id": "80wJ-rhon0Ur"
      },
      "outputs": [],
      "source": [
        "def data_t():\n",
        "    tie = np.random.rand(14, 16)\n",
        "    for i in range (7):\n",
        "        for j in range (8):\n",
        "            tie [2*i][2*j] = data[i][j]\n",
        "            tie [2*i+1][2*j] = data[i][j]\n",
        "            tie [2*i][2*j+1] = data[i][j]\n",
        "            tie [2*i+1][2*j+1] = data[i][j]\n",
        "    for i in range (12):\n",
        "        tie[2][i+2] = 131\n",
        "        tie[3][i+2] = 131\n",
        "    for j in range (8):\n",
        "        tie[4+j][7] = 131\n",
        "        tie[4+j][8] = 131\n",
        "    return tie"
      ]
    },
    {
      "cell_type": "code",
      "execution_count": 224,
      "metadata": {
        "id": "FH4sdsYkn0Us"
      },
      "outputs": [],
      "source": [
        "def check_end():\n",
        "    for i in range (7):\n",
        "        for j in range (8):\n",
        "            if ((i,j) not in mine[1] and (i,j) not in yours[1]):\n",
        "                plot_colored_grid(data, colors=['red', 'yellow', 'chartreuse', 'deepskyblue', 'darkviolet', 'black', 'lightcoral', '#faf791', 'palegreen', 'skyblue', 'mediumorchid', 'dimgray'], bounds=[0, 10, 20, 30, 40, 50,60,70,80,90,100,110,120])\n",
        "                return\n",
        "    msize = len(mine[1])\n",
        "    usize = len(yours[1])\n",
        "    do = 0\n",
        "    if (msize > usize):\n",
        "        print(\"congratulations player 1, you have won the game with a score of \" + str(msize) + \" to \" + str(usize) + \"!!\")\n",
        "        plot_colored_grid(data_w(), colors=['red', 'yellow', 'chartreuse', 'deepskyblue', 'darkviolet', 'black', 'lightcoral', '#faf791', 'palegreen', 'skyblue', 'mediumorchid', 'dimgray', 'snow'], bounds=[0, 10, 20, 30, 40, 50,60,70,80,90,100,110,120,130])\n",
        "    elif (msize < usize):\n",
        "        print(\"sorry player 1, you have lost the game with a score of \" + str(msize) + \" to \" + str(usize) + \"!!\")\n",
        "        plot_colored_grid(data_l(), colors=['red', 'yellow', 'chartreuse', 'deepskyblue', 'darkviolet', 'black', 'lightcoral', '#faf791', 'palegreen', 'skyblue', 'mediumorchid', 'dimgray', 'snow'], bounds=[0, 10, 20, 30, 40, 50,60,70,80,90,100,110,120,130])\n",
        "    else:\n",
        "        print(\"wow player 1, you tied the AI with \" + str(msize) + \"points each!\")\n",
        "        plot_colored_grid(data_t(), colors=['red', 'yellow', 'chartreuse', 'deepskyblue', 'darkviolet', 'black', 'lightcoral', '#faf791', 'palegreen', 'skyblue', 'mediumorchid', 'dimgray', 'snow'], bounds=[0, 10, 20, 30, 40, 50,60,70,80,90,100,110,120,130])"
      ]
    },
    {
      "cell_type": "code",
      "execution_count": 225,
      "metadata": {
        "id": "zLeOC3fGn0Us"
      },
      "outputs": [],
      "source": [
        "def turn(person, color):\n",
        "    toadd = []\n",
        "    if color == person[0]:\n",
        "        print(\"sorry, that's your current color, please choose a different one\")\n",
        "    elif color == other(person)[0]:\n",
        "        print(\"sorry, that's your oponents color, please choose a different one\")\n",
        "    else:\n",
        "        for (i,j) in person[1]:\n",
        "            data[i][j] = rev(color) + 60\n",
        "            if (j > 0 and rev(color)//10 == data[i][j-1]//10 and (i,j-1) not in person[1]+toadd):\n",
        "                toadd += [(i, j-1)]\n",
        "                print (\"added\" + str(i) + \",\" + str(j-1))\n",
        "            if (i > 0 and rev(color)//10 == data[i-1][j]//10 and (i-1,j) not in person[1]+toadd):\n",
        "                toadd += [(i-1, j)]\n",
        "                print (\"added\" + str(i-1) + \",\" + str(j))\n",
        "            if (j < 7 and rev(color)//10 == data[i][j+1]//10 and (i,j+1) not in person[1]+toadd):\n",
        "                toadd += [(i, j+1)]\n",
        "                print (\"added\" + str(i) + \",\" + str(j+1))\n",
        "            if (i < 6 and rev(color)//10 == data[i+1][j]//10 and (i+1,j) not in person[1]+toadd):\n",
        "                toadd += [(i+1, j)]\n",
        "                print (\"added\" + str(i+1) + \",\" + str(j))\n",
        "        for (i,j) in toadd:\n",
        "            data[i][j] += 60\n",
        "        person[0] = color\n",
        "        person[1] += toadd\n",
        "        #plot_colored_grid(data, colors=['red', 'yellow', 'chartreuse', 'deepskyblue', 'darkviolet', 'black', 'lightcoral', '#faf791', 'palegreen', 'skyblue', 'mediumorchid', 'dimgray'], bounds=[0, 10, 20, 30, 40, 50,60,70,80,90,100,110,120])\n",
        "        check_end()\n"
      ]
    },
    {
      "cell_type": "code",
      "execution_count": 226,
      "metadata": {
        "id": "k36vGuzqn0Uu"
      },
      "outputs": [],
      "source": [
        "def mock_turn(person, color):\n",
        "    toadd = []\n",
        "    for (i,j) in person:\n",
        "        if (j > 0 and rev(color)//10 == data[i][j-1]//10 and (i,j-1) not in person and (i,j-1) not in toadd):\n",
        "            toadd += [(i, j-1)]\n",
        "        if (i > 0 and rev(color)//10 == data[i-1][j]//10 and (i-1,j) not in person and (i-1,j) not in toadd):\n",
        "            toadd += [(i-1, j)]\n",
        "        if (j < 7 and rev(color)//10 == data[i][j+1]//10 and (i,j+1) not in person and (i,j+1) not in toadd):\n",
        "            toadd += [(i, j+1)]\n",
        "        if (i < 6 and rev(color)//10 == data[i+1][j]//10 and (i+1,j) not in person and (i+1,j) not in toadd):\n",
        "            toadd += [(i+1, j)]\n",
        "    return (person + toadd)"
      ]
    },
    {
      "cell_type": "code",
      "execution_count": 227,
      "metadata": {
        "id": "WDGa-xNAn0Uu"
      },
      "outputs": [],
      "source": [
        "def ai_decide(me,you):\n",
        "    #mock_options=[[[yours]*6]*6]*6\n",
        "    sizes = [[[0]*6]*6]*6\n",
        "    colors = ['red', 'yellow', 'green', 'blue', 'purple', 'black']\n",
        "    mock = me[1]\n",
        "    maxi = 0\n",
        "    store_col = [0,0,0]\n",
        "    hold = [[[mock]*6]*6]*6\n",
        "    a_col = [mock]*6\n",
        "    b_col = [mock]*6\n",
        "    c_col = [mock]*6\n",
        "    for a in range (6):\n",
        "        if (colors[a] != you[0] and colors[a] != me[0]):\n",
        "            a_col[a] = mock_turn(mock, colors[a])\n",
        "            #print(a_col[a])\n",
        "            b_col = [a_col[a]]*6\n",
        "            for b in range (6):\n",
        "                if (a != b):\n",
        "                    b_col[b] = mock_turn(a_col[a], colors[b])\n",
        "                    c_col = [b_col[b]]*6\n",
        "                    for c in range (6):\n",
        "                        if (b != c):\n",
        "                            hold[a][b][c] = mock_turn(b_col[b], colors[c])\n",
        "                            sizes[a][b][c] = len(hold[a][b][c]) - len(mock)\n",
        "                            if (sizes[a][b][c] > maxi):\n",
        "                                maxi = sizes[a][b][c]\n",
        "                                print (maxi)\n",
        "                                store_col = [a,b,c]\n",
        "                            elif (maxi > 0 and (sizes[a][b][c] == maxi)):\n",
        "                                if (len(a_col[a]) > len(a_col[store_col[0]])):\n",
        "                                    maxi = sizes[a][b][c]\n",
        "                                    print (maxi)\n",
        "                                    store_col = [a, b, c]\n",
        "    return colors[store_col[0]]"
      ]
    },
    {
      "cell_type": "code",
      "execution_count": 228,
      "metadata": {
        "id": "R58lW_FMn0U0",
        "outputId": "48133a66-b083-42a8-c98e-28ed482b3d99",
        "colab": {
          "base_uri": "https://localhost:8080/",
          "height": 920
        }
      },
      "outputs": [
        {
          "output_type": "stream",
          "name": "stdout",
          "text": [
            "added0,6\n",
            "added1,7\n",
            "1\n",
            "3\n",
            "4\n",
            "6\n",
            "added6,1\n"
          ]
        },
        {
          "output_type": "display_data",
          "data": {
            "text/plain": [
              "<Figure size 640x480 with 1 Axes>"
            ],
            "image/png": "[encoded data removed]"
          },
          "metadata": {}
        },
        {
          "output_type": "display_data",
          "data": {
            "text/plain": [
              "<Figure size 640x480 with 1 Axes>"
            ],
            "image/png": "[encoded data removed]"
          },
          "metadata": {}
        }
      ],
      "source": [
        "turn(mine,\"black\")\n",
        "turn(yours,ai_decide(yours,mine))"
      ]
    }
  ],
  "metadata": {
    "kernelspec": {
      "display_name": "Python 3",
      "language": "python",
      "name": "python3"
    },
    "language_info": {
      "codemirror_mode": {
        "name": "ipython",
        "version": 3
      },
      "file_extension": ".py",
      "mimetype": "text/x-python",
      "name": "python",
      "nbconvert_exporter": "python",
      "pygments_lexer": "ipython3",
      "version": "3.8.3"
    },
    "colab": {
      "provenance": []
    }
  },
  "nbformat": 4,
  "nbformat_minor": 0
}