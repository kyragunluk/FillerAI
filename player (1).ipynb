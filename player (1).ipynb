{
  "cells": [
    {
      "cell_type": "code",
      "source": [
        "import numpy as np\n",
        "import random\n",
        "import matplotlib.pyplot as plt\n",
        "import copy\n",
        "\n",
        "class FillerGame:\n",
        "    def __init__(self, width=10, height=10, colors=['R', 'G', 'B', 'Y', 'O', 'P']):\n",
        "        self.width = width\n",
        "        self.height = height\n",
        "        self.colors = colors\n",
        "        self.color_map = {'R': 'red', 'G': 'green', 'B': 'blue', 'Y': 'yellow', 'O': 'orange', 'P': 'purple'}\n",
        "        self.board = np.array([[random.choice(colors) for _ in range(width)] for _ in range(height)])\n",
        "        self.ensure_no_adjacent_matches()\n",
        "        self.players = {1: {'score': 1, 'territory': [(height-1, 0)], 'color': self.board[-1, 0]},\n",
        "                        2: {'score': 1, 'territory': [(0,width-1)], 'color': self.board[0, -1]}}\n",
        "        self.current_player = 1\n",
        "        self.display_board_matplotlib()\n",
        "\n",
        "    def ensure_no_adjacent_matches(self):\n",
        "        for i in range(self.height):\n",
        "            for j in range(self.width):\n",
        "                adjacent_colors = set()\n",
        "                if i > 0:\n",
        "                    adjacent_colors.add(self.board[i-1, j])\n",
        "                if j > 0:\n",
        "                    adjacent_colors.add(self.board[i, j-1])\n",
        "\n",
        "                # Additional checks for the corners\n",
        "                if (i, j) in [(0, 1), (1, 0), (self.height - 1, self.width - 2), (self.height - 2, self.width - 1),\n",
        "                             (0, self.width - 2), (1, self.width - 1), (self.height - 1, 1), (self.height - 2, 0)]:\n",
        "                    # Add the diagonal neighbor's color to the set\n",
        "                    diagonal_i, diagonal_j = (1, 1) if i == 0 else (self.height - 2, self.width - 2)\n",
        "                    adjacent_colors.add(self.board[diagonal_i, diagonal_j])\n",
        "\n",
        "                available_colors = [c for c in self.colors if c not in adjacent_colors]\n",
        "                self.board[i, j] = random.choice(available_colors)\n",
        "\n",
        "\n",
        "    def play_turn(self, color, current_player, ai = False):\n",
        "        if color not in self.colors:\n",
        "            raise ValueError(\"Invalid color choice\")\n",
        "\n",
        "        opponent_color = self.players[3 - current_player]['color']\n",
        "        if color == opponent_color:\n",
        "            raise ValueError(\"Cannot choose the color that the opponent currently has\")\n",
        "\n",
        "        if color == self.players[current_player]['color']:\n",
        "            raise ValueError(\"Cannot choose the color you currently have\")\n",
        "\n",
        "\n",
        "        player = self.players[self.current_player]\n",
        "        new_territory = []\n",
        "\n",
        "        for x, y in player['territory']:\n",
        "            for dx, dy in [(1, 0), (0, 1), (-1, 0), (0, -1)]:\n",
        "                nx, ny = x + dx, y + dy\n",
        "                if 0 <= nx < self.height and 0 <= ny < self.width and self.board[nx, ny] == color:\n",
        "                    new_territory.append((nx, ny))\n",
        "\n",
        "        for x, y in player['territory']:\n",
        "            self.board[x][y] = color\n",
        "        player['territory'].extend(new_territory)\n",
        "        player['territory']= list(set(player['territory']))\n",
        "        player['score']  = len(player['territory'])\n",
        "        player['color'] = color\n",
        "        self.current_player = 3 - current_player  # Switch between player 1 and 2\n",
        "\n",
        "        # Print scores\n",
        "        player_1_score = self.players[1]['score']\n",
        "        player_2_score = self.players[2]['score']\n",
        "\n",
        "        if not ai:\n",
        "            print(f\"Player 1 score: {player_1_score}\")\n",
        "            print(f\"Player 2 score: {player_2_score}\")\n",
        "            self.display_board_matplotlib()\n",
        "\n",
        "        end, player = self.check_end()\n",
        "\n",
        "        if end and not ai:\n",
        "            print(f\"Player {player}, you have won!\")\n",
        "\n",
        "    def display_board_matplotlib(self):\n",
        "        fig, ax = plt.subplots()\n",
        "\n",
        "        ax.grid(False)\n",
        "        ax.set_xticks([])\n",
        "        ax.set_yticks([])\n",
        "\n",
        "        for i in range(self.height):\n",
        "            for j in range(self.width):\n",
        "                color = self.color_map[self.board[i, j]]\n",
        "                rect = plt.Rectangle([j, i], 1, 1, color=color)\n",
        "                ax.add_patch(rect)\n",
        "\n",
        "        ax.set_xlim(0, self.width)\n",
        "        ax.set_ylim(0, self.height)\n",
        "        ax.invert_yaxis()\n",
        "        plt.show()\n",
        "\n",
        "\n",
        "    def copy_game(self):\n",
        "        return copy.deepcopy(self)\n",
        "\n",
        "    def check_end(self):\n",
        "        total_squares = self.width * self.height\n",
        "        player_1_score = self.players[1]['score']\n",
        "        player_2_score = self.players[2]['score']\n",
        "\n",
        "        if player_1_score + player_2_score == total_squares:\n",
        "            if player_1_score > player_2_score:\n",
        "                return True, 1\n",
        "            else:\n",
        "                return True, 2\n",
        "        return False, None  # No winner yet\n",
        "\n",
        "    def evaluate_board(self):\n",
        "        # Example evaluation function\n",
        "        # Returns the difference in scores between player 2 and player 1\n",
        "        return self.players[2]['score'] - self.players[1]['score']\n",
        "\n",
        "    def minimax(self, depth, alpha, beta, maximizingPlayer):\n",
        "        if depth == 0 or self.check_end()[0]:\n",
        "            return self.evaluate_board()\n",
        "\n",
        "        if maximizingPlayer:\n",
        "            maxEval = float('-inf')\n",
        "            for color in self.colors:\n",
        "                if color != self.players[1]['color'] and color != self.players[2]['color']:\n",
        "                    game_copy = self.copy_game()\n",
        "                    game_copy.play_turn(color, 2, ai=True)  # Simulate move for AI in copy\n",
        "                    eval = game_copy.minimax(depth - 1, alpha, beta, False)\n",
        "                    maxEval = max(maxEval, eval)\n",
        "                    alpha = max(alpha, eval)\n",
        "                    if beta <= alpha:\n",
        "                        break\n",
        "            return maxEval\n",
        "        else:\n",
        "            minEval = float('inf')\n",
        "            for color in self.colors:\n",
        "                if color != self.players[1]['color'] and color != self.players[2]['color']:\n",
        "                    game_copy = self.copy_game()\n",
        "                    game_copy.play_turn(color, 1, ai=True)  # Simulate move for opponent in copy\n",
        "                    eval = game_copy.minimax(depth - 1, alpha, beta, True)\n",
        "                    minEval = min(minEval, eval)\n",
        "                    beta = min(beta, eval)\n",
        "                    if beta <= alpha:\n",
        "                        break\n",
        "            return minEval\n",
        "\n",
        "    def find_best_move(self):\n",
        "        best_score = float('-inf')\n",
        "        best_move = None\n",
        "        for color in self.colors:\n",
        "            if color != self.players[1]['color'] and color != self.players[2]['color']:\n",
        "                game_copy = self.copy_game()\n",
        "                game_copy.play_turn(color, 2, ai=True)  # Simulate move for AI in copy\n",
        "                score = game_copy.minimax(3, float('-inf'), float('inf'), False)\n",
        "                if score > best_score:\n",
        "                    best_score = score\n",
        "                    best_move = color\n",
        "        return best_move"
      ],
      "metadata": {
        "id": "zjgQo1quNuMD"
      },
      "execution_count": null,
      "outputs": []
    },
    {
      "cell_type": "code",
      "execution_count": null,
      "metadata": {
        "colab": {
          "base_uri": "https://localhost:8080/",
          "height": 406
        },
        "id": "kcwyKnpJNrD0",
        "outputId": "af980aa3-4715-4f8d-b3f9-651768cb62ed"
      },
      "outputs": [
        {
          "output_type": "display_data",
          "data": {
            "text/plain": [
              "<Figure size 640x480 with 1 Axes>"
            ],
            "image/png": "[encoded data removed]"
          },
          "metadata": {}
        }
      ],
      "source": [
        "# from filler import FillerGame\n",
        "\n",
        "# Example usage\n",
        "game = FillerGame(width=8, height=7)\n"
      ]
    },
    {
      "cell_type": "code",
      "execution_count": null,
      "metadata": {
        "colab": {
          "base_uri": "https://localhost:8080/",
          "height": 884
        },
        "id": "-TKU1xEkNrD4",
        "outputId": "ddff5f1e-7042-4000-b847-dcbec45f66bb"
      },
      "outputs": [
        {
          "output_type": "stream",
          "name": "stdout",
          "text": [
            "Player 1 score: 2\n",
            "Player 2 score: 1\n"
          ]
        },
        {
          "output_type": "display_data",
          "data": {
            "text/plain": [
              "<Figure size 640x480 with 1 Axes>"
            ],
            "image/png": "[encoded data removed]"
          },
          "metadata": {}
        },
        {
          "output_type": "stream",
          "name": "stdout",
          "text": [
            "B\n",
            "Player 1 score: 2\n",
            "Player 2 score: 1\n"
          ]
        },
        {
          "output_type": "display_data",
          "data": {
            "text/plain": [
              "<Figure size 640x480 with 1 Axes>"
            ],
            "image/png": "[encoded data removed]"
          },
          "metadata": {}
        }
      ],
      "source": [
        "game.play_turn('G', 1)\n",
        "# AI (Player 2) finds the best move\n",
        "best_move_for_ai = game.find_best_move()\n",
        "print(best_move_for_ai)\n",
        "game.play_turn(best_move_for_ai, 2)"
      ]
    },
    {
      "cell_type": "code",
      "execution_count": null,
      "metadata": {
        "colab": {
          "base_uri": "https://localhost:8080/",
          "height": 884
        },
        "id": "gk8Y58MpNrD5",
        "outputId": "df4060b0-88c0-4b98-e03b-04d794ea4f2a"
      },
      "outputs": [
        {
          "output_type": "stream",
          "name": "stdout",
          "text": [
            "Player 1 score: 3\n",
            "Player 2 score: 1\n"
          ]
        },
        {
          "output_type": "display_data",
          "data": {
            "text/plain": [
              "<Figure size 640x480 with 1 Axes>"
            ],
            "image/png": "[encoded data removed]"
          },
          "metadata": {}
        },
        {
          "output_type": "stream",
          "name": "stdout",
          "text": [
            "G\n",
            "Player 1 score: 3\n",
            "Player 2 score: 3\n"
          ]
        },
        {
          "output_type": "display_data",
          "data": {
            "text/plain": [
              "<Figure size 640x480 with 1 Axes>"
            ],
            "image/png": "[encoded data removed]"
          },
          "metadata": {}
        }
      ],
      "source": [
        "game.play_turn('R', 1)\n",
        "# AI (Player 2) finds the best move\n",
        "best_move_for_ai = game.find_best_move()\n",
        "print(best_move_for_ai)\n",
        "game.play_turn(best_move_for_ai, 2)"
      ]
    },
    {
      "cell_type": "code",
      "execution_count": null,
      "metadata": {
        "colab": {
          "base_uri": "https://localhost:8080/",
          "height": 884
        },
        "id": "Zfpi3HV2NrD6",
        "outputId": "dcf6d777-58fb-4426-fcd4-adf5f9ef862c"
      },
      "outputs": [
        {
          "output_type": "stream",
          "name": "stdout",
          "text": [
            "Player 1 score: 5\n",
            "Player 2 score: 3\n"
          ]
        },
        {
          "output_type": "display_data",
          "data": {
            "text/plain": [
              "<Figure size 640x480 with 1 Axes>"
            ],
            "image/png": "[encoded data removed]"
          },
          "metadata": {}
        },
        {
          "output_type": "stream",
          "name": "stdout",
          "text": [
            "P\n",
            "Player 1 score: 5\n",
            "Player 2 score: 5\n"
          ]
        },
        {
          "output_type": "display_data",
          "data": {
            "text/plain": [
              "<Figure size 640x480 with 1 Axes>"
            ],
            "image/png": "[encoded data removed]"
          },
          "metadata": {}
        }
      ],
      "source": [
        "game.play_turn('B', 1)\n",
        "# AI (Player 2) finds the best move\n",
        "best_move_for_ai = game.find_best_move()\n",
        "print(best_move_for_ai)\n",
        "game.play_turn(best_move_for_ai, 2)"
      ]
    },
    {
      "cell_type": "code",
      "execution_count": null,
      "metadata": {
        "colab": {
          "base_uri": "https://localhost:8080/",
          "height": 884
        },
        "id": "nXNICy5nNrD7",
        "outputId": "88cb0151-feb9-4024-d146-1840f29fbb16"
      },
      "outputs": [
        {
          "output_type": "stream",
          "name": "stdout",
          "text": [
            "Player 1 score: 7\n",
            "Player 2 score: 5\n"
          ]
        },
        {
          "output_type": "display_data",
          "data": {
            "text/plain": [
              "<Figure size 640x480 with 1 Axes>"
            ],
            "image/png": "[encoded data removed]"
          },
          "metadata": {}
        },
        {
          "output_type": "stream",
          "name": "stdout",
          "text": [
            "R\n",
            "Player 1 score: 7\n",
            "Player 2 score: 8\n"
          ]
        },
        {
          "output_type": "display_data",
          "data": {
            "text/plain": [
              "<Figure size 640x480 with 1 Axes>"
            ],
            "image/png": "[encoded data removed]"
          },
          "metadata": {}
        }
      ],
      "source": [
        "game.play_turn('G', 1)\n",
        "# AI (Player 2) finds the best move\n",
        "best_move_for_ai = game.find_best_move()\n",
        "print(best_move_for_ai)\n",
        "game.play_turn(best_move_for_ai, 2)"
      ]
    },
    {
      "cell_type": "code",
      "execution_count": null,
      "metadata": {
        "colab": {
          "base_uri": "https://localhost:8080/",
          "height": 884
        },
        "id": "G1DH1YRhNrD7",
        "outputId": "00f9b481-d1f7-4238-ad21-aadbd5a49813"
      },
      "outputs": [
        {
          "output_type": "stream",
          "name": "stdout",
          "text": [
            "Player 1 score: 9\n",
            "Player 2 score: 8\n"
          ]
        },
        {
          "output_type": "display_data",
          "data": {
            "text/plain": [
              "<Figure size 640x480 with 1 Axes>"
            ],
            "image/png": "[encoded data removed]"
          },
          "metadata": {}
        },
        {
          "output_type": "stream",
          "name": "stdout",
          "text": [
            "G\n",
            "Player 1 score: 9\n",
            "Player 2 score: 11\n"
          ]
        },
        {
          "output_type": "display_data",
          "data": {
            "text/plain": [
              "<Figure size 640x480 with 1 Axes>"
            ],
            "image/png": "[encoded data removed]"
          },
          "metadata": {}
        }
      ],
      "source": [
        "game.play_turn('Y', 1)\n",
        "# AI (Player 2) finds the best move\n",
        "best_move_for_ai = game.find_best_move()\n",
        "print(best_move_for_ai)\n",
        "game.play_turn(best_move_for_ai, 2)"
      ]
    },
    {
      "cell_type": "code",
      "execution_count": null,
      "metadata": {
        "colab": {
          "base_uri": "https://localhost:8080/",
          "height": 884
        },
        "id": "8ZSAJFPbNrD8",
        "outputId": "0e946e69-a355-4cb5-97bc-3bc68e4ca90b"
      },
      "outputs": [
        {
          "output_type": "stream",
          "name": "stdout",
          "text": [
            "Player 1 score: 13\n",
            "Player 2 score: 11\n"
          ]
        },
        {
          "output_type": "display_data",
          "data": {
            "text/plain": [
              "<Figure size 640x480 with 1 Axes>"
            ],
            "image/png": "[encoded data removed]"
          },
          "metadata": {}
        },
        {
          "output_type": "stream",
          "name": "stdout",
          "text": [
            "B\n",
            "Player 1 score: 13\n",
            "Player 2 score: 13\n"
          ]
        },
        {
          "output_type": "display_data",
          "data": {
            "text/plain": [
              "<Figure size 640x480 with 1 Axes>"
            ],
            "image/png": "[encoded data removed]"
          },
          "metadata": {}
        }
      ],
      "source": [
        "game.play_turn('P', 1)\n",
        "# AI (Player 2) finds the best move\n",
        "best_move_for_ai = game.find_best_move()\n",
        "print(best_move_for_ai)\n",
        "game.play_turn(best_move_for_ai, 2)"
      ]
    },
    {
      "cell_type": "code",
      "execution_count": null,
      "metadata": {
        "colab": {
          "base_uri": "https://localhost:8080/",
          "height": 884
        },
        "id": "y-HcTv09NrD8",
        "outputId": "6b99c4c5-e09c-41a9-df7f-8154731548c4"
      },
      "outputs": [
        {
          "output_type": "stream",
          "name": "stdout",
          "text": [
            "Player 1 score: 16\n",
            "Player 2 score: 13\n"
          ]
        },
        {
          "output_type": "display_data",
          "data": {
            "text/plain": [
              "<Figure size 640x480 with 1 Axes>"
            ],
            "image/png": "[encoded data removed]"
          },
          "metadata": {}
        },
        {
          "output_type": "stream",
          "name": "stdout",
          "text": [
            "Y\n",
            "Player 1 score: 16\n",
            "Player 2 score: 18\n"
          ]
        },
        {
          "output_type": "display_data",
          "data": {
            "text/plain": [
              "<Figure size 640x480 with 1 Axes>"
            ],
            "image/png": "[encoded data removed]"
          },
          "metadata": {}
        }
      ],
      "source": [
        "game.play_turn('G', 1)\n",
        "# AI (Player 2) finds the best move\n",
        "best_move_for_ai = game.find_best_move()\n",
        "print(best_move_for_ai)\n",
        "game.play_turn(best_move_for_ai, 2)"
      ]
    },
    {
      "cell_type": "code",
      "execution_count": null,
      "metadata": {
        "colab": {
          "base_uri": "https://localhost:8080/",
          "height": 884
        },
        "id": "8CZ2D-NbNrD8",
        "outputId": "36d4317b-95c6-404b-9e77-263d565d22da"
      },
      "outputs": [
        {
          "output_type": "stream",
          "name": "stdout",
          "text": [
            "Player 1 score: 22\n",
            "Player 2 score: 18\n"
          ]
        },
        {
          "output_type": "display_data",
          "data": {
            "text/plain": [
              "<Figure size 640x480 with 1 Axes>"
            ],
            "image/png": "[encoded data removed]"
          },
          "metadata": {}
        },
        {
          "output_type": "stream",
          "name": "stdout",
          "text": [
            "P\n",
            "Player 1 score: 22\n",
            "Player 2 score: 20\n"
          ]
        },
        {
          "output_type": "display_data",
          "data": {
            "text/plain": [
              "<Figure size 640x480 with 1 Axes>"
            ],
            "image/png": "[encoded data removed]"
          },
          "metadata": {}
        }
      ],
      "source": [
        "game.play_turn('R', 1)\n",
        "# AI (Player 2) finds the best move\n",
        "best_move_for_ai = game.find_best_move()\n",
        "print(best_move_for_ai)\n",
        "game.play_turn(best_move_for_ai, 2)"
      ]
    },
    {
      "cell_type": "code",
      "source": [
        "game.play_turn('G', 1)\n",
        "best_move_for_ai = game.find_best_move()\n",
        "print(best_move_for_ai)\n",
        "game.play_turn(best_move_for_ai, 2)"
      ],
      "metadata": {
        "colab": {
          "base_uri": "https://localhost:8080/",
          "height": 884
        },
        "id": "irFTSlXPQXcw",
        "outputId": "442424a0-8455-4890-e3a3-ade1faf0c29a"
      },
      "execution_count": null,
      "outputs": [
        {
          "output_type": "stream",
          "name": "stdout",
          "text": [
            "Player 1 score: 25\n",
            "Player 2 score: 20\n"
          ]
        },
        {
          "output_type": "display_data",
          "data": {
            "text/plain": [
              "<Figure size 640x480 with 1 Axes>"
            ],
            "image/png": "[encoded data removed]"
          },
          "metadata": {}
        },
        {
          "output_type": "stream",
          "name": "stdout",
          "text": [
            "B\n",
            "Player 1 score: 25\n",
            "Player 2 score: 21\n"
          ]
        },
        {
          "output_type": "display_data",
          "data": {
            "text/plain": [
              "<Figure size 640x480 with 1 Axes>"
            ],
            "image/png": "[encoded data removed]"
          },
          "metadata": {}
        }
      ]
    },
    {
      "cell_type": "code",
      "source": [
        "game.play_turn('P', 1)\n",
        "best_move_for_ai = game.find_best_move()\n",
        "print(best_move_for_ai)\n",
        "game.play_turn(best_move_for_ai, 2)"
      ],
      "metadata": {
        "colab": {
          "base_uri": "https://localhost:8080/",
          "height": 884
        },
        "id": "G9pk8yP-Qe4O",
        "outputId": "ca29a9ed-153c-42c2-ad1a-534ba016b933"
      },
      "execution_count": null,
      "outputs": [
        {
          "output_type": "stream",
          "name": "stdout",
          "text": [
            "Player 1 score: 27\n",
            "Player 2 score: 21\n"
          ]
        },
        {
          "output_type": "display_data",
          "data": {
            "text/plain": [
              "<Figure size 640x480 with 1 Axes>"
            ],
            "image/png": "[encoded data removed]"
          },
          "metadata": {}
        },
        {
          "output_type": "stream",
          "name": "stdout",
          "text": [
            "R\n",
            "Player 1 score: 27\n",
            "Player 2 score: 22\n"
          ]
        },
        {
          "output_type": "display_data",
          "data": {
            "text/plain": [
              "<Figure size 640x480 with 1 Axes>"
            ],
            "image/png": "[encoded data removed]"
          },
          "metadata": {}
        }
      ]
    },
    {
      "cell_type": "code",
      "source": [
        "game.play_turn('B', 1)\n",
        "best_move_for_ai = game.find_best_move()\n",
        "print(best_move_for_ai)\n",
        "game.play_turn(best_move_for_ai, 2)"
      ],
      "metadata": {
        "colab": {
          "base_uri": "https://localhost:8080/",
          "height": 884
        },
        "id": "DZif-5kcQhMn",
        "outputId": "c2f71663-eed2-47a1-e929-01fc59291d57"
      },
      "execution_count": null,
      "outputs": [
        {
          "output_type": "stream",
          "name": "stdout",
          "text": [
            "Player 1 score: 31\n",
            "Player 2 score: 22\n"
          ]
        },
        {
          "output_type": "display_data",
          "data": {
            "text/plain": [
              "<Figure size 640x480 with 1 Axes>"
            ],
            "image/png": "[encoded data removed]"
          },
          "metadata": {}
        },
        {
          "output_type": "stream",
          "name": "stdout",
          "text": [
            "O\n",
            "Player 1 score: 31\n",
            "Player 2 score: 24\n"
          ]
        },
        {
          "output_type": "display_data",
          "data": {
            "text/plain": [
              "<Figure size 640x480 with 1 Axes>"
            ],
            "image/png": "[encoded data removed]"
          },
          "metadata": {}
        }
      ]
    },
    {
      "cell_type": "code",
      "source": [
        "game.play_turn('Y', 1)"
      ],
      "metadata": {
        "colab": {
          "base_uri": "https://localhost:8080/",
          "height": 460
        },
        "id": "CV8Ifp62QioM",
        "outputId": "745332dc-421d-4749-c530-d79d466ef47e"
      },
      "execution_count": null,
      "outputs": [
        {
          "output_type": "stream",
          "name": "stdout",
          "text": [
            "Player 1 score: 32\n",
            "Player 2 score: 24\n"
          ]
        },
        {
          "output_type": "display_data",
          "data": {
            "text/plain": [
              "<Figure size 640x480 with 1 Axes>"
            ],
            "image/png": "[encoded data removed]"
          },
          "metadata": {}
        },
        {
          "output_type": "stream",
          "name": "stdout",
          "text": [
            "Player 1, you have won!\n"
          ]
        }
      ]
    },
    {
      "cell_type": "code",
      "source": [
        "game.play_turn('P', 1)\n",
        "best_move_for_ai = game.find_best_move()\n",
        "print(best_move_for_ai)\n",
        "game.play_turn(best_move_for_ai, 2)"
      ],
      "metadata": {
        "colab": {
          "base_uri": "https://localhost:8080/",
          "height": 884
        },
        "id": "tzWidRJGQkVV",
        "outputId": "5c6936bb-3f02-4417-ff93-a7ff8d5f913b"
      },
      "execution_count": null,
      "outputs": [
        {
          "output_type": "stream",
          "name": "stdout",
          "text": [
            "Player 1 score: 28\n",
            "Player 2 score: 26\n"
          ]
        },
        {
          "output_type": "display_data",
          "data": {
            "text/plain": [
              "<Figure size 640x480 with 1 Axes>"
            ],
            "image/png": "[encoded data removed]"
          },
          "metadata": {}
        },
        {
          "output_type": "stream",
          "name": "stdout",
          "text": [
            "O\n",
            "Player 1 score: 28\n",
            "Player 2 score: 27\n"
          ]
        },
        {
          "output_type": "display_data",
          "data": {
            "text/plain": [
              "<Figure size 640x480 with 1 Axes>"
            ],
            "image/png": "[encoded data removed]"
          },
          "metadata": {}
        }
      ]
    },
    {
      "cell_type": "code",
      "source": [
        "game.play_turn('R', 1)\n",
        "best_move_for_ai = game.find_best_move()\n",
        "print(best_move_for_ai)\n",
        "game.play_turn(best_move_for_ai, 2)"
      ],
      "metadata": {
        "colab": {
          "base_uri": "https://localhost:8080/",
          "height": 902
        },
        "id": "1vBMvSdaQmPI",
        "outputId": "af5fb5e3-5969-4782-a5ca-818933e2182e"
      },
      "execution_count": null,
      "outputs": [
        {
          "output_type": "stream",
          "name": "stdout",
          "text": [
            "Player 1 score: 28\n",
            "Player 2 score: 27\n"
          ]
        },
        {
          "output_type": "display_data",
          "data": {
            "text/plain": [
              "<Figure size 640x480 with 1 Axes>"
            ],
            "image/png": "[encoded data removed]"
          },
          "metadata": {}
        },
        {
          "output_type": "stream",
          "name": "stdout",
          "text": [
            "Y\n",
            "Player 1 score: 28\n",
            "Player 2 score: 28\n"
          ]
        },
        {
          "output_type": "display_data",
          "data": {
            "text/plain": [
              "<Figure size 640x480 with 1 Axes>"
            ],
            "image/png": "[encoded data removed]"
          },
          "metadata": {}
        },
        {
          "output_type": "stream",
          "name": "stdout",
          "text": [
            "Player 2, you have won!\n"
          ]
        }
      ]
    }
  ],
  "metadata": {
    "kernelspec": {
      "display_name": "Python 3",
      "language": "python",
      "name": "python3"
    },
    "language_info": {
      "codemirror_mode": {
        "name": "ipython",
        "version": 3
      },
      "file_extension": ".py",
      "mimetype": "text/x-python",
      "name": "python",
      "nbconvert_exporter": "python",
      "pygments_lexer": "ipython3",
      "version": "3.11.4"
    },
    "colab": {
      "provenance": []
    }
  },
  "nbformat": 4,
  "nbformat_minor": 0
}